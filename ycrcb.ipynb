{
 "cells": [
  {
   "cell_type": "markdown",
   "metadata": {},
   "source": [
    "![img1](./img/torgb.jpg)\n",
    "\n",
    "# YCbCr\n",
    "\n",
    "É um espaço de cores usado em imagens coloridas em vídeo e fotografia.\n",
    "\n",
    "### Componentes:\n",
    " - Y: Luminosidade\n",
    " - CB: Diferença de Azul\n",
    " - CR: Diferença de Vermelho\n",
    "\n",
    "### Fundamentação\n",
    "Sinais RGB não são eficientes em dispositivos como tubos de raios catódicos por possuirem muita redundância de informação. YCbCr é uma aproximação prática ao processamento de cores e uniformidade perceptual, onde as cores primárias correspondentes aproximadamente ao vermelho, verde e azul são processadas em informações perceptivamente significativas. Ao fazer isso, o processamento, a transmissão e o armazenamento subsequentes de imagens / vídeos podem realizar operações e introduzir erros de maneiras perceptivas. Y′CbCr é usado para separar um sinal de luma (Y ′) que pode ser armazenado com alta resolução ou transmitido em alta largura de banda, e dois componentes de crominância (CB e CR) que podem ser reduzidos, subamostrados, compactados ou de outra forma tratado separadamente para melhorar a eficiência do sistema.\n",
    "\n",
    "### Conversão de RGB para YCbCr\n",
    "\n",
    "![calc](img/calc.svg)\n",
    "\n",
    "onde K R , K G e K B são ordinariamente derivados da definição do espaço RGB correspondente e são requeridos para satisfazer $ K_ {R} + K_ {G} + K_ {B} = 1$ . (A manipulação de matriz equivalente é muitas vezes referida como a “matriz de cores”.)\n",
    "\n",
    "##### Conversão ITU-R BT.601\n",
    "A forma de Y′CbCr que foi definida para uso de televisão de definição padrão no padrão ITU-R BT.601 (anteriormente CCIR 601) para uso com vídeo componente digital é derivada do espaço RGB correspondente da seguinte forma:<br>\n",
    "\n",
    "$K_r = 0.299$ <br>\n",
    "$K_g = 0.587$ <br>\n",
    "$K_b = 0.114$ <br>\n",
    "\n",
    "##### Conversão ITU-R BT.2020\n",
    "O padrão ITU-R BT.2020 define Y′CbCr corrigido por gama e uma versão codificada linearmente de YCbCr chamada YcCbcCrc. YcCbcCrc pode ser usado quando a prioridade máxima é a retenção mais precisa das informações de luminância. Para YcCbcCrc, os coeficientes são:<br>\n",
    "\n",
    "$K_r = 0.2627$ <br>\n",
    "$K_g = 0.587$ <br>\n",
    "$K_b = 0.0593$ <br>\n",
    "\n"
   ]
  },
  {
   "cell_type": "code",
   "execution_count": 2,
   "metadata": {},
   "outputs": [],
   "source": [
    "import cv2\n",
    "import numpy as np"
   ]
  },
  {
   "cell_type": "code",
   "execution_count": 14,
   "metadata": {},
   "outputs": [],
   "source": [
    "target = 'photos/LOTE 10 R1 EXTERNA.jpg'\n",
    "input_image = cv2.imread(target)\n",
    "\n",
    "scale_percent = 25\n",
    "width = int(input_image.shape[1] * scale_percent / 100)\n",
    "height = int(input_image.shape[0] * scale_percent / 100)\n",
    "dim = (width, height)\n",
    "\n",
    "\n",
    "cv2.imshow('Original Image', cv2.resize(input_image, dim, interpolation = cv2.INTER_AREA))\n",
    "cv2.waitKey(0)\n",
    "cv2.destroyAllWindows()"
   ]
  },
  {
   "cell_type": "code",
   "execution_count": 6,
   "metadata": {},
   "outputs": [],
   "source": [
    "ycbcr = cv2.cvtColor(input_image, cv2.COLOR_RGB2YCR_CB)\n",
    "\n",
    "cv2.imshow('Grayscale Image', cv2.resize(ycbcr, dim, interpolation = cv2.INTER_AREA))\n",
    "cv2.waitKey(0)\n",
    "cv2.destroyAllWindows()"
   ]
  },
  {
   "cell_type": "code",
   "execution_count": 18,
   "metadata": {},
   "outputs": [
    {
     "data": {
      "text/plain": [
       "True"
      ]
     },
     "execution_count": 18,
     "metadata": {},
     "output_type": "execute_result"
    }
   ],
   "source": [
    "y, cb, cr = cv2.split(ycbcr)\n",
    "\n",
    "cv2.imshow('Y', cv2.resize(y, dim, interpolation = cv2.INTER_AREA))\n",
    "cv2.imshow('CB', cv2.resize(cb, dim, interpolation = cv2.INTER_AREA))\n",
    "cv2.imshow('CR', cv2.resize(cr, dim, interpolation = cv2.INTER_AREA))\n",
    "\n",
    "\n",
    "cv2.waitKey(0)\n",
    "cv2.destroyAllWindows()\n",
    "\n",
    "cv2.imwrite('processed/cb.jpg', cb)\n",
    "cv2.imwrite('processed/cr.jpg', cr)"
   ]
  },
  {
   "cell_type": "code",
   "execution_count": 19,
   "metadata": {},
   "outputs": [
    {
     "data": {
      "text/plain": [
       "True"
      ]
     },
     "execution_count": 19,
     "metadata": {},
     "output_type": "execute_result"
    }
   ],
   "source": [
    "border = cv2.Canny(cb, 50, 50)\n",
    "\n",
    "cv2.imshow('Borders', cv2.resize(border, dim, interpolation = cv2.INTER_AREA))\n",
    "\n",
    "cv2.waitKey(0)\n",
    "cv2.destroyAllWindows()\n",
    "\n",
    "cv2.imwrite('processed/borders.jpg', border)"
   ]
  }
 ],
 "metadata": {
  "kernelspec": {
   "display_name": "Python 3.10.5 64-bit",
   "language": "python",
   "name": "python3"
  },
  "language_info": {
   "codemirror_mode": {
    "name": "ipython",
    "version": 3
   },
   "file_extension": ".py",
   "mimetype": "text/x-python",
   "name": "python",
   "nbconvert_exporter": "python",
   "pygments_lexer": "ipython3",
   "version": "3.10.5"
  },
  "orig_nbformat": 4,
  "vscode": {
   "interpreter": {
    "hash": "9a3b07ba528c89038647187279d5e29ba231df4ea6aa016e93723a294652464d"
   }
  }
 },
 "nbformat": 4,
 "nbformat_minor": 2
}
